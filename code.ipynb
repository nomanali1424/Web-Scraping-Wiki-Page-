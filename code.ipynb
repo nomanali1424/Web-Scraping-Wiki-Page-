{
 "cells": [
  {
   "cell_type": "code",
   "execution_count": 2,
   "metadata": {},
   "outputs": [],
   "source": [
    "#DATA SCRAPING OF ANDROID VERSIONS WIKIPEDIA PAGE"
   ]
  },
  {
   "cell_type": "code",
   "execution_count": 3,
   "metadata": {},
   "outputs": [
    {
     "name": "stdout",
     "output_type": "stream",
     "text": [
      "Requirement already satisfied: bs4 in c:\\programdata\\anaconda3\\lib\\site-packages (0.0.1)\n",
      "Requirement already satisfied: beautifulsoup4 in c:\\programdata\\anaconda3\\lib\\site-packages (from bs4) (4.9.3)\n",
      "Requirement already satisfied: soupsieve>1.2; python_version >= \"3.0\" in c:\\programdata\\anaconda3\\lib\\site-packages (from beautifulsoup4->bs4) (2.0.1)\n"
     ]
    }
   ],
   "source": [
    "!pip install bs4"
   ]
  },
  {
   "cell_type": "code",
   "execution_count": 4,
   "metadata": {},
   "outputs": [],
   "source": [
    "from urllib.request import urlopen"
   ]
  },
  {
   "cell_type": "code",
   "execution_count": 5,
   "metadata": {},
   "outputs": [],
   "source": [
    "android_url = \"https://en.wikipedia.org/wiki/Android_version_history\""
   ]
  },
  {
   "cell_type": "code",
   "execution_count": 6,
   "metadata": {},
   "outputs": [
    {
     "name": "stdout",
     "output_type": "stream",
     "text": [
      "<class 'http.client.HTTPResponse'>\n"
     ]
    }
   ],
   "source": [
    "android_data = urlopen(android_url)\n",
    "print(type(android_data))"
   ]
  },
  {
   "cell_type": "code",
   "execution_count": 7,
   "metadata": {},
   "outputs": [],
   "source": [
    "android_html = android_data.read()"
   ]
  },
  {
   "cell_type": "code",
   "execution_count": 8,
   "metadata": {},
   "outputs": [],
   "source": [
    "android_data.close()"
   ]
  },
  {
   "cell_type": "code",
   "execution_count": 9,
   "metadata": {},
   "outputs": [],
   "source": [
    "#Parsing Data"
   ]
  },
  {
   "cell_type": "code",
   "execution_count": 10,
   "metadata": {},
   "outputs": [],
   "source": [
    "from bs4 import BeautifulSoup as soup"
   ]
  },
  {
   "cell_type": "code",
   "execution_count": 11,
   "metadata": {},
   "outputs": [],
   "source": [
    "android_soup = soup(android_html, \"html.parser\")"
   ]
  },
  {
   "cell_type": "code",
   "execution_count": 12,
   "metadata": {},
   "outputs": [
    {
     "name": "stdout",
     "output_type": "stream",
     "text": [
      "<class 'bs4.BeautifulSoup'>\n"
     ]
    }
   ],
   "source": [
    "print(type(android_soup))"
   ]
  },
  {
   "cell_type": "code",
   "execution_count": 13,
   "metadata": {},
   "outputs": [
    {
     "data": {
      "text/plain": [
       "[<h1 class=\"firstHeading mw-first-heading\" id=\"firstHeading\">Android version history</h1>]"
      ]
     },
     "execution_count": 13,
     "metadata": {},
     "output_type": "execute_result"
    }
   ],
   "source": [
    "android_soup.findAll('h1',{})"
   ]
  },
  {
   "cell_type": "code",
   "execution_count": 14,
   "metadata": {},
   "outputs": [
    {
     "name": "stdout",
     "output_type": "stream",
     "text": [
      "32\n"
     ]
    }
   ],
   "source": [
    "tables = android_soup.findAll('table',{'class':\"wikitable\"})\n",
    "print(len(tables))"
   ]
  },
  {
   "cell_type": "code",
   "execution_count": 15,
   "metadata": {},
   "outputs": [],
   "source": [
    "android_table = tables[0]"
   ]
  },
  {
   "cell_type": "code",
   "execution_count": 16,
   "metadata": {},
   "outputs": [],
   "source": [
    "#Extracting Useful Information"
   ]
  },
  {
   "cell_type": "code",
   "execution_count": 17,
   "metadata": {},
   "outputs": [
    {
     "name": "stdout",
     "output_type": "stream",
     "text": [
      "7\n"
     ]
    }
   ],
   "source": [
    "headers = android_table.findAll(\"th\")\n",
    "print(len(headers))"
   ]
  },
  {
   "cell_type": "code",
   "execution_count": 18,
   "metadata": {},
   "outputs": [
    {
     "name": "stdout",
     "output_type": "stream",
     "text": [
      "Name\n",
      "\n"
     ]
    }
   ],
   "source": [
    "print(headers[0].text)"
   ]
  },
  {
   "cell_type": "code",
   "execution_count": 19,
   "metadata": {},
   "outputs": [
    {
     "name": "stdout",
     "output_type": "stream",
     "text": [
      "['Name', 'Internal codename', 'Version number(s)', 'Initial stablerelease date', 'Supported(security fixes)', 'API level', 'References']\n"
     ]
    }
   ],
   "source": [
    "column_titles = [ct.text[:-1] for ct in headers ]\n",
    "print(column_titles)"
   ]
  },
  {
   "cell_type": "code",
   "execution_count": 236,
   "metadata": {},
   "outputs": [
    {
     "name": "stdout",
     "output_type": "stream",
     "text": [
      "32\n",
      "Android 1.0\n",
      "N/A\n",
      "1.0\n",
      "September 23, 2008\n",
      "No\n",
      "1\n",
      "[9][15]\n"
     ]
    }
   ],
   "source": [
    "rows_data = android_table.findAll(\"tr\")[1:]\n",
    "print(len(rows_data))\n",
    "first_row = rows_data[0].findAll('td',{})\n",
    "for d in first_row:\n",
    "    print(d.text[:-1])"
   ]
  },
  {
   "cell_type": "code",
   "execution_count": 246,
   "metadata": {},
   "outputs": [],
   "source": [
    "table_rows = []\n",
    "for row in rows_data:\n",
    "    current_row =[]\n",
    "    row_data = row.findAll('td',{})\n",
    "    for idx,data in enumerate(row_data):\n",
    "        #if idx==1:\n",
    "            #current_row.append(data.text[:1].split(\":\")[-1])\n",
    "        if idx==0 and idx==1 and idx==3  and idx==4:\n",
    "            current_row.append(data.text[:-1])\n",
    "        else:\n",
    "            current_row.append(data.text[:-1])\n",
    "        \n",
    "    table_rows.append(current_row)"
   ]
  },
  {
   "cell_type": "code",
   "execution_count": 247,
   "metadata": {
    "scrolled": true
   },
   "outputs": [
    {
     "name": "stdout",
     "output_type": "stream",
     "text": [
      "[['Android 1.0', 'N/A', '1.0', 'September 23, 2008', 'No', '1', '[9][15]'], ['Android 1.1', 'Petit Four', '1.1', 'February 9, 2009', 'No', '2', '[9][15][16]'], ['Android Cupcake', 'Cupcake', '1.5', 'April 27, 2009', 'No', '3', '[15][17]'], ['Android Donut', 'Donut', '1.6', 'September 15, 2009', 'No', '4', '[15][18]'], ['Android Eclair', 'Eclair', '2.0', 'October 27, 2009', 'No', '5', '[15][19][20]'], ['2.0.1', 'December 3, 2009', 'No', '6', ''], ['2.1', 'January 11, 2010', 'No', '7', '[21]'], ['Android Froyo', 'Froyo', '2.2 – 2.2.3', 'May 20, 2010', 'No', '8', '[15][22]'], ['Android Gingerbread', 'Gingerbread', '2.3 – 2.3.2', 'December 6, 2010', 'No', '9', '[15][23]'], ['2.3.3 – 2.3.7', 'February 9, 2011', 'No', '10', ''], ['Android Honeycomb', 'Honeycomb', '3.0', 'February 22, 2011', 'No', '11', '[15][24]'], ['3.1', 'May 10, 2011', 'No', '12', ''], ['3.2 – 3.2.6', 'July 15, 2011', 'No', '13', ''], ['Android Ice Cream Sandwich', 'Ice Cream Sandwich', '4.0 – 4.0.2', 'October 18, 2011', 'No', '14', '[15][25]'], ['4.0.3 – 4.0.4', 'December 16, 2011', 'No', '15', ''], ['Android Jelly Bean', 'Jelly Bean', '4.1 – 4.1.2', 'July 9, 2012', 'No', '16', '[15][26]'], ['4.2 – 4.2.2', 'November 13, 2012', 'No', '17', ''], ['4.3 – 4.3.1', 'July 24, 2013', 'No', '18', ''], ['Android KitKat', 'Key Lime Pie', '4.4 – 4.4.4', 'October 31, 2013', 'No', '19', '[15][27]'], ['4.4W – 4.4W.2', 'June 25, 2014', 'No', '20', ''], ['Android Lollipop', 'Lemon Meringue Pie', '5.0 – 5.0.2', 'November 4, 2014', 'No', '21', '[15][28][29]'], ['5.1 – 5.1.1', 'March 2, 2015', 'No', '22', '[30]'], ['Android Marshmallow', 'Macadamia Nut Cookie', '6.0 – 6.0.1', 'October 2, 2015', 'No', '23', '[15][31][32]'], ['Android Nougat', 'New York Cheesecake', '7.0', 'August 22, 2016', 'No', '24', '[15][33][34][35][36]'], ['7.1 – 7.1.2', 'October 4, 2016', 'No', '25', ''], ['Android Oreo', 'Oatmeal Cookie', '8.0', 'August 21, 2017', 'No', '26', '[15][37][38]'], ['8.1', 'December 5, 2017', 'No', '27', '[15][39]'], ['Android Pie', 'Pistachio Ice Cream', '9', 'August 6, 2018', 'Yes', '28', '[15][40][41]'], ['Android 10', 'Quince Tart', '10', 'September 3, 2019', 'Yes', '29', '[15][42][43][44]'], ['Android 11', 'Red Velvet Cake', '11', 'September 8, 2020', 'Yes', '30', '[15][45]'], ['Android 12', 'Snow Cone', '12', 'October 4, 2021', 'Yes', '31', '[15][46][47]'], ['Android 12L', 'Snow Cone v2', 'TBA', 'Q1 2022', 'Presupported', '32', '[48][49]']]\n"
     ]
    }
   ],
   "source": [
    "print(table_rows)"
   ]
  },
  {
   "cell_type": "code",
   "execution_count": 248,
   "metadata": {},
   "outputs": [],
   "source": [
    "#writing and Reading CSV Files"
   ]
  },
  {
   "cell_type": "code",
   "execution_count": 254,
   "metadata": {},
   "outputs": [],
   "source": [
    "filename = 'android_version_history.csv'\n",
    "with open(filename,'w', encoding='utf-8')as f:\n",
    "    #writing the header\n",
    "    header_string = ','.join(column_titles)\n",
    "    header_string += '\\n'\n",
    "    f.write(header_string)\n",
    "    \n",
    "    for row in table_rows:\n",
    "        row_string = \"\"\n",
    "        row_string = ','.join(row)\n",
    "        row_string += '\\n'\n",
    "        f.write(row_string)\n",
    "        "
   ]
  },
  {
   "cell_type": "code",
   "execution_count": 255,
   "metadata": {},
   "outputs": [],
   "source": [
    "# Data Cleaning"
   ]
  },
  {
   "cell_type": "code",
   "execution_count": 256,
   "metadata": {},
   "outputs": [],
   "source": [
    "import pandas as pd"
   ]
  },
  {
   "cell_type": "code",
   "execution_count": 260,
   "metadata": {},
   "outputs": [],
   "source": [
    "df = pd.read_csv('android_version_history.csv')"
   ]
  },
  {
   "cell_type": "code",
   "execution_count": 262,
   "metadata": {},
   "outputs": [
    {
     "data": {
      "text/html": [
       "<div>\n",
       "<style scoped>\n",
       "    .dataframe tbody tr th:only-of-type {\n",
       "        vertical-align: middle;\n",
       "    }\n",
       "\n",
       "    .dataframe tbody tr th {\n",
       "        vertical-align: top;\n",
       "    }\n",
       "\n",
       "    .dataframe thead th {\n",
       "        text-align: right;\n",
       "    }\n",
       "</style>\n",
       "<table border=\"1\" class=\"dataframe\">\n",
       "  <thead>\n",
       "    <tr style=\"text-align: right;\">\n",
       "      <th></th>\n",
       "      <th>Name</th>\n",
       "      <th>Internal codename</th>\n",
       "      <th>Version number(s)</th>\n",
       "      <th>Initial stablerelease date</th>\n",
       "      <th>Supported(security fixes)</th>\n",
       "      <th>API level</th>\n",
       "      <th>References</th>\n",
       "    </tr>\n",
       "  </thead>\n",
       "  <tbody>\n",
       "    <tr>\n",
       "      <th>Android 1.0</th>\n",
       "      <td>NaN</td>\n",
       "      <td>1.0</td>\n",
       "      <td>September 23</td>\n",
       "      <td>2008</td>\n",
       "      <td>No</td>\n",
       "      <td>1</td>\n",
       "      <td>[9][15]</td>\n",
       "    </tr>\n",
       "    <tr>\n",
       "      <th>Android 1.1</th>\n",
       "      <td>Petit Four</td>\n",
       "      <td>1.1</td>\n",
       "      <td>February 9</td>\n",
       "      <td>2009</td>\n",
       "      <td>No</td>\n",
       "      <td>2</td>\n",
       "      <td>[9][15][16]</td>\n",
       "    </tr>\n",
       "    <tr>\n",
       "      <th>Android Cupcake</th>\n",
       "      <td>Cupcake</td>\n",
       "      <td>1.5</td>\n",
       "      <td>April 27</td>\n",
       "      <td>2009</td>\n",
       "      <td>No</td>\n",
       "      <td>3</td>\n",
       "      <td>[15][17]</td>\n",
       "    </tr>\n",
       "    <tr>\n",
       "      <th>Android Donut</th>\n",
       "      <td>Donut</td>\n",
       "      <td>1.6</td>\n",
       "      <td>September 15</td>\n",
       "      <td>2009</td>\n",
       "      <td>No</td>\n",
       "      <td>4</td>\n",
       "      <td>[15][18]</td>\n",
       "    </tr>\n",
       "    <tr>\n",
       "      <th>Android Eclair</th>\n",
       "      <td>Eclair</td>\n",
       "      <td>2.0</td>\n",
       "      <td>October 27</td>\n",
       "      <td>2009</td>\n",
       "      <td>No</td>\n",
       "      <td>5</td>\n",
       "      <td>[15][19][20]</td>\n",
       "    </tr>\n",
       "    <tr>\n",
       "      <th>Android Eclair</th>\n",
       "      <td>Eclair</td>\n",
       "      <td>2.0.1</td>\n",
       "      <td>December 3</td>\n",
       "      <td>2009</td>\n",
       "      <td>No</td>\n",
       "      <td>6</td>\n",
       "      <td>NaN</td>\n",
       "    </tr>\n",
       "    <tr>\n",
       "      <th>Android Eclair</th>\n",
       "      <td>Eclair</td>\n",
       "      <td>2.1</td>\n",
       "      <td>January 11</td>\n",
       "      <td>2010</td>\n",
       "      <td>No</td>\n",
       "      <td>7</td>\n",
       "      <td>[21]</td>\n",
       "    </tr>\n",
       "    <tr>\n",
       "      <th>Android Froyo</th>\n",
       "      <td>Froyo</td>\n",
       "      <td>2.2 – 2.2.3</td>\n",
       "      <td>May 20</td>\n",
       "      <td>2010</td>\n",
       "      <td>No</td>\n",
       "      <td>8</td>\n",
       "      <td>[15][22]</td>\n",
       "    </tr>\n",
       "    <tr>\n",
       "      <th>Android Gingerbread</th>\n",
       "      <td>Gingerbread</td>\n",
       "      <td>2.3 – 2.3.2</td>\n",
       "      <td>December 6</td>\n",
       "      <td>2010</td>\n",
       "      <td>No</td>\n",
       "      <td>9</td>\n",
       "      <td>[15][23]</td>\n",
       "    </tr>\n",
       "    <tr>\n",
       "      <th>Android Gingerbread</th>\n",
       "      <td>Gingerbread</td>\n",
       "      <td>2.3.3 – 2.3.7</td>\n",
       "      <td>February 9</td>\n",
       "      <td>2011</td>\n",
       "      <td>No</td>\n",
       "      <td>10</td>\n",
       "      <td>NaN</td>\n",
       "    </tr>\n",
       "  </tbody>\n",
       "</table>\n",
       "</div>"
      ],
      "text/plain": [
       "                            Name Internal codename Version number(s)  \\\n",
       "Android 1.0                  NaN               1.0      September 23   \n",
       "Android 1.1           Petit Four               1.1        February 9   \n",
       "Android Cupcake          Cupcake               1.5          April 27   \n",
       "Android Donut              Donut               1.6      September 15   \n",
       "Android Eclair            Eclair               2.0        October 27   \n",
       "Android Eclair            Eclair             2.0.1        December 3   \n",
       "Android Eclair            Eclair               2.1        January 11   \n",
       "Android Froyo              Froyo       2.2 – 2.2.3            May 20   \n",
       "Android Gingerbread  Gingerbread       2.3 – 2.3.2        December 6   \n",
       "Android Gingerbread  Gingerbread     2.3.3 – 2.3.7        February 9   \n",
       "\n",
       "                    Initial stablerelease date Supported(security fixes)  \\\n",
       "Android 1.0                               2008                        No   \n",
       "Android 1.1                               2009                        No   \n",
       "Android Cupcake                           2009                        No   \n",
       "Android Donut                             2009                        No   \n",
       "Android Eclair                            2009                        No   \n",
       "Android Eclair                            2009                        No   \n",
       "Android Eclair                            2010                        No   \n",
       "Android Froyo                             2010                        No   \n",
       "Android Gingerbread                       2010                        No   \n",
       "Android Gingerbread                       2011                        No   \n",
       "\n",
       "                    API level    References  \n",
       "Android 1.0                 1       [9][15]  \n",
       "Android 1.1                 2   [9][15][16]  \n",
       "Android Cupcake             3      [15][17]  \n",
       "Android Donut               4      [15][18]  \n",
       "Android Eclair              5  [15][19][20]  \n",
       "Android Eclair              6           NaN  \n",
       "Android Eclair              7          [21]  \n",
       "Android Froyo               8      [15][22]  \n",
       "Android Gingerbread         9      [15][23]  \n",
       "Android Gingerbread        10           NaN  "
      ]
     },
     "execution_count": 262,
     "metadata": {},
     "output_type": "execute_result"
    }
   ],
   "source": [
    "df.head(10)"
   ]
  },
  {
   "cell_type": "code",
   "execution_count": null,
   "metadata": {},
   "outputs": [],
   "source": []
  },
  {
   "cell_type": "code",
   "execution_count": null,
   "metadata": {},
   "outputs": [],
   "source": []
  },
  {
   "cell_type": "code",
   "execution_count": null,
   "metadata": {},
   "outputs": [],
   "source": []
  },
  {
   "cell_type": "code",
   "execution_count": null,
   "metadata": {},
   "outputs": [],
   "source": []
  }
 ],
 "metadata": {
  "kernelspec": {
   "display_name": "Python 3",
   "language": "python",
   "name": "python3"
  },
  "language_info": {
   "codemirror_mode": {
    "name": "ipython",
    "version": 3
   },
   "file_extension": ".py",
   "mimetype": "text/x-python",
   "name": "python",
   "nbconvert_exporter": "python",
   "pygments_lexer": "ipython3",
   "version": "3.8.5"
  }
 },
 "nbformat": 4,
 "nbformat_minor": 4
}
